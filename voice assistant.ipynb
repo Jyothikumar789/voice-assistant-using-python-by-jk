{
 "cells": [
  {
   "cell_type": "code",
   "execution_count": null,
   "metadata": {},
   "outputs": [
    {
     "name": "stdout",
     "output_type": "stream",
     "text": [
      "please say something...\n",
      "result2:\n",
      "{   'alternative': [   {'confidence': 0.88687539, 'transcript': 'hello 27'},\n",
      "                       {'transcript': '27'}],\n",
      "    'final': True}\n",
      "you have said : \n",
      " hello 27\n"
     ]
    },
    {
     "ename": "NameError",
     "evalue": "name 'self' is not defined",
     "output_type": "error",
     "traceback": [
      "\u001b[1;31m---------------------------------------------------------------------------\u001b[0m",
      "\u001b[1;31mNameError\u001b[0m                                 Traceback (most recent call last)",
      "Cell \u001b[1;32mIn[11], line 22\u001b[0m\n\u001b[0;32m     20\u001b[0m    pyobj\u001b[39m.\u001b[39msay(\u001b[39mf\u001b[39m\u001b[39m\"\u001b[39m\u001b[39mhello boss: welcome you:  how are you: after a long gap: again we met together: how may i help you  \u001b[39m\u001b[39m\"\u001b[39m)\n\u001b[0;32m     21\u001b[0m    pyobj\u001b[39m.\u001b[39mrunAndWait()\n\u001b[1;32m---> 22\u001b[0m    assistant(\u001b[39mself\u001b[39;49m)\n\u001b[0;32m     23\u001b[0m \u001b[39mif\u001b[39;00m text\u001b[39m.\u001b[39mlower()\u001b[39m==\u001b[39m\u001b[39m\"\u001b[39m\u001b[39m27 open google\u001b[39m\u001b[39m\"\u001b[39m:\n\u001b[0;32m     24\u001b[0m    r1\u001b[39m=\u001b[39msr\u001b[39m.\u001b[39mRecognizer()\n",
      "\u001b[1;31mNameError\u001b[0m: name 'self' is not defined"
     ]
    }
   ],
   "source": [
    "#Help of jesus only it done(thank u jesus)\n",
    "\n",
    "\n",
    "import pywhatkit as pwt\n",
    "import pyttsx3 as pt\n",
    "import speech_recognition as sr\n",
    "def assistant():\n",
    "    r=sr.Recognizer()\n",
    "    \n",
    "    with sr.Microphone() as source:\n",
    "        r.adjust_for_ambient_noise(source)\n",
    "        print(\"please say something...\")\n",
    "        audio=r.listen(source)\n",
    "        text=r.recognize_google(audio)\n",
    "        print(\"you have said : \\n \"+text)   \n",
    "\n",
    "if str(text).lower() ==\"hello 27\":\n",
    "   pyobj=pt.init()\n",
    "   pyobj.setProperty(\"rate\",95)\n",
    "   pyobj.say(f\"hello boss: welcome you:  how are you: after a long gap: again we met together: how may i help you  \")\n",
    "   pyobj.runAndWait()\n",
    "   assistant()\n",
    "if text.lower()==\"27 open google\":\n",
    "   r1=sr.Recognizer()\n",
    "    \n",
    "   with sr.Microphone() as source:\n",
    "    r1.adjust_for_ambient_noise(source)\n",
    "    print(\"please tell me your search...\")\n",
    "    audio=r1.listen(source)\n",
    "    text1=r1.recognize_google(audio)\n",
    "    print(\"you have said : \\n \"+text1)  \n",
    "    pyobj=pt.init()\n",
    "    pyobj.setProperty(\"rate\",90)\n",
    "    pyobj.say(f\"Now iam opening google please wait\")\n",
    "    pyobj.runAndWait()\n",
    "   \n",
    "    pwt.search(text1)\n",
    "if text.lower()==\"27 open youtube\":\n",
    "   r2=sr.Recognizer()\n",
    "    \n",
    "   with sr.Microphone() as source:\n",
    "    r2.adjust_for_ambient_noise(source)\n",
    "    print(\"please tell me your search...\")\n",
    "    audio=r2.listen(source)\n",
    "    text2=r2.recognize_google(audio)\n",
    "    print(\"you have said : \\n \"+text2)  \n",
    "    pyobj=pt.init()\n",
    "    pyobj.setProperty(\"rate\",90)\n",
    "    pyobj.say(\"Now iam opening youtube for u please wait \")\n",
    "    pyobj.runAndWait()\n",
    "    pwt.playonyt(text2)\n",
    "if text.lower()==\"thank you 27\":\n",
    "   \n",
    "    pyobj=pt.init()\n",
    "    pyobj.setProperty(\"rate\",90)\n",
    "    pyobj.say(\" your welcome boss: visit me again and take care of yourself \")\n",
    "    pyobj.runAndWait() \n",
    "   \n"
   ]
  },
  {
   "cell_type": "code",
   "execution_count": null,
   "metadata": {},
   "outputs": [],
   "source": [
    "import pywhatkit as pwt\n",
    "import pyttsx3 as pt\n",
    "import speech_recognition as sr\n",
    "\n",
    "def assistant():\n",
    "    r=sr.Recognizer()\n",
    "    \n",
    "    with sr.Microphone() as source:\n",
    "        r.adjust_for_ambient_noise(source)\n",
    "        print(\"please say something...\")\n",
    "        audio=r.listen(source)\n",
    "        text=r.recognize_google(audio)\n",
    "        print(\"you have said : \\n \"+text)\n",
    "        \n",
    "    return text.lower()\n",
    "\n",
    "while True:\n",
    "    text = assistant()\n",
    "\n",
    "    if text == \"hello 27\":\n",
    "        pyobj=pt.init()\n",
    "        pyobj.setProperty(\"rate\",95)\n",
    "        pyobj.say(f\"hello boss: welcome you:  how are you: after a long gap: again we met together: how may i help you  \")\n",
    "        pyobj.runAndWait()\n",
    "\n",
    "    elif text == \"27 open google\":\n",
    "        r1=sr.Recognizer()\n",
    "\n",
    "        with sr.Microphone() as source:\n",
    "            r1.adjust_for_ambient_noise(source)\n",
    "            print(\"please tell me your search...\")\n",
    "            audio=r1.listen(source)\n",
    "            text1=r1.recognize_google(audio)\n",
    "            print(\"you have said : \\n \"+text1)  \n",
    "            pyobj=pt.init()\n",
    "            pyobj.setProperty(\"rate\",90)\n",
    "            pyobj.say(f\"Now iam opening google please wait\")\n",
    "            pyobj.runAndWait()\n",
    "\n",
    "        pwt.search(text1)\n",
    "\n",
    "    elif text == \"27 open youtube\":\n",
    "        r2=sr.Recognizer()\n",
    "\n",
    "        with sr.Microphone() as source:\n",
    "            r2.adjust_for_ambient_noise(source)\n",
    "            print(\"please tell me your search...\")\n",
    "            audio=r2.listen(source)\n",
    "            text2=r2.recognize_google(audio)\n",
    "            print(\"you have said : \\n \"+text2)  \n",
    "            pyobj=pt.init()\n",
    "            pyobj.setProperty(\"rate\",90)\n",
    "            pyobj.say(\"Now iam opening youtube for u please wait \")\n",
    "            pyobj.runAndWait()\n",
    "\n",
    "        pwt.playonyt(text2)\n",
    "\n",
    "    elif text == \"thank you 27\":\n",
    "        pyobj=pt.init()\n",
    "        pyobj.setProperty(\"rate\",90)\n",
    "        pyobj.say(\" your welcome boss: visit me again and take care of yourself \")\n",
    "        pyobj.runAndWait()\n",
    "        \n",
    "    else:\n",
    "        print(\"Sorry, I didn't understand what you said. Please try again.\")"
   ]
  },
  {
   "cell_type": "code",
   "execution_count": null,
   "metadata": {},
   "outputs": [
    {
     "name": "stdout",
     "output_type": "stream",
     "text": [
      "x\n"
     ]
    }
   ],
   "source": [
    "x=5\n",
    "print(\"x\")"
   ]
  },
  {
   "cell_type": "code",
   "execution_count": null,
   "metadata": {},
   "outputs": [],
   "source": [
    "def main():\n",
    "    r=sr.Recognizer()\n",
    "    with sr.Microphone() as source:\n",
    "        r.adjust_for_ambient_noise(source)\n",
    "        print(\"please say something...\")\n",
    "        audio=r.listen(source)\n",
    "        print(\"you have said : \\n \",r.recognize_google(audio))\n",
    "        \n",
    "if __name__ == \"__main__\":\n",
    "    main()"
   ]
  }
 ],
 "metadata": {
  "kernelspec": {
   "display_name": "Python 3",
   "language": "python",
   "name": "python3"
  },
  "language_info": {
   "codemirror_mode": {
    "name": "ipython",
    "version": 3
   },
   "file_extension": ".py",
   "mimetype": "text/x-python",
   "name": "python",
   "nbconvert_exporter": "python",
   "pygments_lexer": "ipython3",
   "version": "3.11.2"
  },
  "orig_nbformat": 4,
  "vscode": {
   "interpreter": {
    "hash": "d8d9b163b0c3ef49ea6f17f0cfebff96a35d2b399a7308299d8cf5c6a6b11748"
   }
  }
 },
 "nbformat": 4,
 "nbformat_minor": 2
}
